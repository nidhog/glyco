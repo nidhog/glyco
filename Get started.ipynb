{
 "cells": [
  {
   "cell_type": "code",
   "execution_count": 1,
   "source": [
    "%load_ext autoreload\n",
    "%autoreload 2"
   ],
   "outputs": [],
   "metadata": {}
  },
  {
   "cell_type": "code",
   "execution_count": 2,
   "source": [
    "import glyco as gl"
   ],
   "outputs": [],
   "metadata": {}
  },
  {
   "cell_type": "markdown",
   "source": [
    "# How to read a glucose CSV file\n",
    "Requirements:\n",
    "* The file must contain:\n",
    "  * a timestamp column:\n",
    "  * a glucose column\n",
    "\n",
    "You can use the method `read_csv` to read a glucose CSV file."
   ],
   "metadata": {}
  },
  {
   "cell_type": "markdown",
   "source": [
    "We are going to read the CSV file under `test/data/sample_glucose.csv`"
   ],
   "metadata": {}
  },
  {
   "cell_type": "code",
   "execution_count": 8,
   "source": [
    "file_path = 'data/sample_glucose.csv'\n",
    "glucose = gl.read_csv(file_path)\n",
    "\n",
    "glucose.head(2)"
   ],
   "outputs": [
    {
     "output_type": "execute_result",
     "data": {
      "text/html": [
       "<div>\n",
       "<style scoped>\n",
       "    .dataframe tbody tr th:only-of-type {\n",
       "        vertical-align: middle;\n",
       "    }\n",
       "\n",
       "    .dataframe tbody tr th {\n",
       "        vertical-align: top;\n",
       "    }\n",
       "\n",
       "    .dataframe thead th {\n",
       "        text-align: right;\n",
       "    }\n",
       "</style>\n",
       "<table border=\"1\" class=\"dataframe\">\n",
       "  <thead>\n",
       "    <tr style=\"text-align: right;\">\n",
       "      <th></th>\n",
       "      <th>Device</th>\n",
       "      <th>Serial Number</th>\n",
       "      <th>Device Timestamp</th>\n",
       "      <th>Record Type</th>\n",
       "      <th>Historic Glucose mmol/L</th>\n",
       "      <th>Scan Glucose mmol/L</th>\n",
       "      <th>Non-numeric Rapid-Acting Insulin</th>\n",
       "      <th>Rapid-Acting Insulin (units)</th>\n",
       "      <th>Non-numeric Food</th>\n",
       "      <th>Carbohydrates (grams)</th>\n",
       "      <th>...</th>\n",
       "      <th>shifted_weekday</th>\n",
       "      <th>shifted_is_weekend</th>\n",
       "      <th>G</th>\n",
       "      <th>t</th>\n",
       "      <th>dg</th>\n",
       "      <th>dt</th>\n",
       "      <th>dg_dt</th>\n",
       "      <th>auc_mean</th>\n",
       "      <th>auc_lim</th>\n",
       "      <th>auc_min</th>\n",
       "    </tr>\n",
       "    <tr>\n",
       "      <th>t</th>\n",
       "      <th></th>\n",
       "      <th></th>\n",
       "      <th></th>\n",
       "      <th></th>\n",
       "      <th></th>\n",
       "      <th></th>\n",
       "      <th></th>\n",
       "      <th></th>\n",
       "      <th></th>\n",
       "      <th></th>\n",
       "      <th></th>\n",
       "      <th></th>\n",
       "      <th></th>\n",
       "      <th></th>\n",
       "      <th></th>\n",
       "      <th></th>\n",
       "      <th></th>\n",
       "      <th></th>\n",
       "      <th></th>\n",
       "      <th></th>\n",
       "      <th></th>\n",
       "    </tr>\n",
       "  </thead>\n",
       "  <tbody>\n",
       "    <tr>\n",
       "      <th>2019-12-05 16:56:00</th>\n",
       "      <td>FreeStyle LibreLink</td>\n",
       "      <td>b59d4499-1a07-462b-b7da-a179f2093996</td>\n",
       "      <td>05-12-2019 16:56</td>\n",
       "      <td>0</td>\n",
       "      <td>6.5</td>\n",
       "      <td>NaN</td>\n",
       "      <td>NaN</td>\n",
       "      <td>NaN</td>\n",
       "      <td>NaN</td>\n",
       "      <td>NaN</td>\n",
       "      <td>...</td>\n",
       "      <td>Thu</td>\n",
       "      <td>0</td>\n",
       "      <td>6.400000</td>\n",
       "      <td>2019-12-05 16:56:00</td>\n",
       "      <td>NaN</td>\n",
       "      <td>NaN</td>\n",
       "      <td>NaN</td>\n",
       "      <td>NaN</td>\n",
       "      <td>NaN</td>\n",
       "      <td>NaN</td>\n",
       "    </tr>\n",
       "    <tr>\n",
       "      <th>2019-12-05 17:11:00</th>\n",
       "      <td>FreeStyle LibreLink</td>\n",
       "      <td>b59d4499-1a07-462b-b7da-a179f2093996</td>\n",
       "      <td>05-12-2019 17:11</td>\n",
       "      <td>0</td>\n",
       "      <td>6.7</td>\n",
       "      <td>NaN</td>\n",
       "      <td>NaN</td>\n",
       "      <td>NaN</td>\n",
       "      <td>NaN</td>\n",
       "      <td>NaN</td>\n",
       "      <td>...</td>\n",
       "      <td>Thu</td>\n",
       "      <td>0</td>\n",
       "      <td>6.533333</td>\n",
       "      <td>2019-12-05 17:11:00</td>\n",
       "      <td>0.133333</td>\n",
       "      <td>900.0</td>\n",
       "      <td>0.000148</td>\n",
       "      <td>1111.55914</td>\n",
       "      <td>480.0</td>\n",
       "      <td>3900.0</td>\n",
       "    </tr>\n",
       "  </tbody>\n",
       "</table>\n",
       "<p>2 rows × 40 columns</p>\n",
       "</div>"
      ],
      "text/plain": [
       "                                  Device  \\\n",
       "t                                          \n",
       "2019-12-05 16:56:00  FreeStyle LibreLink   \n",
       "2019-12-05 17:11:00  FreeStyle LibreLink   \n",
       "\n",
       "                                            Serial Number  Device Timestamp  \\\n",
       "t                                                                             \n",
       "2019-12-05 16:56:00  b59d4499-1a07-462b-b7da-a179f2093996  05-12-2019 16:56   \n",
       "2019-12-05 17:11:00  b59d4499-1a07-462b-b7da-a179f2093996  05-12-2019 17:11   \n",
       "\n",
       "                     Record Type  Historic Glucose mmol/L  \\\n",
       "t                                                           \n",
       "2019-12-05 16:56:00            0                      6.5   \n",
       "2019-12-05 17:11:00            0                      6.7   \n",
       "\n",
       "                     Scan Glucose mmol/L  Non-numeric Rapid-Acting Insulin  \\\n",
       "t                                                                            \n",
       "2019-12-05 16:56:00                  NaN                               NaN   \n",
       "2019-12-05 17:11:00                  NaN                               NaN   \n",
       "\n",
       "                     Rapid-Acting Insulin (units)  Non-numeric Food  \\\n",
       "t                                                                     \n",
       "2019-12-05 16:56:00                           NaN               NaN   \n",
       "2019-12-05 17:11:00                           NaN               NaN   \n",
       "\n",
       "                     Carbohydrates (grams)  ...  shifted_weekday  \\\n",
       "t                                           ...                    \n",
       "2019-12-05 16:56:00                    NaN  ...              Thu   \n",
       "2019-12-05 17:11:00                    NaN  ...              Thu   \n",
       "\n",
       "                     shifted_is_weekend         G                   t  \\\n",
       "t                                                                       \n",
       "2019-12-05 16:56:00                   0  6.400000 2019-12-05 16:56:00   \n",
       "2019-12-05 17:11:00                   0  6.533333 2019-12-05 17:11:00   \n",
       "\n",
       "                           dg     dt     dg_dt    auc_mean  auc_lim auc_min  \n",
       "t                                                                            \n",
       "2019-12-05 16:56:00       NaN    NaN       NaN         NaN      NaN     NaN  \n",
       "2019-12-05 17:11:00  0.133333  900.0  0.000148  1111.55914    480.0  3900.0  \n",
       "\n",
       "[2 rows x 40 columns]"
      ]
     },
     "metadata": {},
     "execution_count": 8
    }
   ],
   "metadata": {}
  },
  {
   "cell_type": "markdown",
   "source": [
    "In the case where there are extra rows, you can add the argument `skiprows`.\n",
    "For example:\n",
    "\n",
    "```Python\n",
    "gl.read_csv(file_path, skiprows=1)\n",
    "```"
   ],
   "metadata": {}
  },
  {
   "cell_type": "markdown",
   "source": [
    "This file will contain the.\n",
    "Refer to the documentation under [./docs/glucose.md](./docs/glucose.md)"
   ],
   "metadata": {}
  },
  {
   "cell_type": "code",
   "execution_count": null,
   "source": [],
   "outputs": [],
   "metadata": {}
  }
 ],
 "metadata": {
  "orig_nbformat": 4,
  "language_info": {
   "name": "python",
   "version": "3.9.9",
   "mimetype": "text/x-python",
   "codemirror_mode": {
    "name": "ipython",
    "version": 3
   },
   "pygments_lexer": "ipython3",
   "nbconvert_exporter": "python",
   "file_extension": ".py"
  },
  "kernelspec": {
   "name": "python3",
   "display_name": "Python 3.9.9 64-bit ('.venv': venv)"
  },
  "interpreter": {
   "hash": "0764dd78a4a4d18962b0de3895cc48cd3fe9e947b34356788231f60620b39cbe"
  }
 },
 "nbformat": 4,
 "nbformat_minor": 2
}